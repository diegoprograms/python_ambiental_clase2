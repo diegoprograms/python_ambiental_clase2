{
  "cells": [
    {
      "cell_type": "markdown",
      "metadata": {},
      "source": [
        "# Clase 1: Ejemplo con Pandas y Matplotlib\n",
        "Este notebook muestra cómo crear un DataFrame y graficar los datos."
      ]
    },
    {
      "cell_type": "code",
      "execution_count": null,
      "metadata": {},
      "outputs": [],
      "source": [
        "import pandas as pd\n",
        "import matplotlib.pyplot as plt\n",
        "\n",
        "datos = {\n",
        "    'Estudiante': ['Ana', 'Luis', 'Sofía', 'Carlos'],\n",
        "    'Nota': [4.5, 3.8, 4.9, 3.6]\n",
        "}\n",
        "\n",
        "df = pd.DataFrame(datos)\n",
        "display(df)\n",
        "\n",
        "df.plot(x='Estudiante', y='Nota', kind='bar', legend=False)\n",
        "plt.title('Notas de la Clase 1')\n",
        "plt.xlabel('Estudiantes')\n",
        "plt.ylabel('Nota')\n",
        "plt.show()"
      ]
    }
  ],
  "metadata": {
    "kernelspec": {
      "display_name": "Python 3",
      "language": "python",
      "name": "python3"
    },
    "language_info": {
      "name": "python",
      "version": "3.10"
    }
  },
  "nbformat": 4,
  "nbformat_minor": 5
}